{
 "cells": [
  {
   "cell_type": "markdown",
   "metadata": {},
   "source": [
    "# Python"
   ]
  },
  {
   "cell_type": "code",
   "execution_count": 1,
   "metadata": {},
   "outputs": [
    {
     "name": "stdout",
     "output_type": "stream",
     "text": [
      "Hello world\n"
     ]
    }
   ],
   "source": [
    "print(\"Hello world\")"
   ]
  },
  {
   "cell_type": "code",
   "execution_count": 4,
   "metadata": {},
   "outputs": [
    {
     "data": {
      "text/plain": [
       "int"
      ]
     },
     "execution_count": 4,
     "metadata": {},
     "output_type": "execute_result"
    }
   ],
   "source": [
    "x = 5\n",
    "type(x)"
   ]
  },
  {
   "cell_type": "code",
   "execution_count": 6,
   "metadata": {},
   "outputs": [
    {
     "data": {
      "text/plain": [
       "'o'"
      ]
     },
     "execution_count": 6,
     "metadata": {},
     "output_type": "execute_result"
    }
   ],
   "source": [
    "s = \"Tanmoy\"\n",
    "s[-1]\n",
    "s[-2]"
   ]
  },
  {
   "cell_type": "markdown",
   "metadata": {},
   "source": [
    "Reversing a string"
   ]
  },
  {
   "cell_type": "code",
   "execution_count": 9,
   "metadata": {},
   "outputs": [
    {
     "data": {
      "text/plain": [
       "'Hello World'"
      ]
     },
     "execution_count": 9,
     "metadata": {},
     "output_type": "execute_result"
    }
   ],
   "source": [
    "s = \"dlroW olleH\"\n",
    "s[::-1]"
   ]
  },
  {
   "cell_type": "code",
   "execution_count": 12,
   "metadata": {},
   "outputs": [
    {
     "name": "stdout",
     "output_type": "stream",
     "text": [
      "Hello\n"
     ]
    }
   ],
   "source": [
    "s = \"Hello!\"\n",
    "p = s[:-1]\n",
    "print(p)"
   ]
  },
  {
   "cell_type": "code",
   "execution_count": 9,
   "metadata": {},
   "outputs": [
    {
     "data": {
      "text/plain": [
       "['He', '', '', 'o wor', 'd']"
      ]
     },
     "execution_count": 9,
     "metadata": {},
     "output_type": "execute_result"
    }
   ],
   "source": [
    "a =\"Helllo world\"\n",
    "a.split('l')"
   ]
  },
  {
   "cell_type": "code",
   "execution_count": 49,
   "metadata": {},
   "outputs": [
    {
     "data": {
      "text/plain": [
       "[0, 1, 2, 3]"
      ]
     },
     "execution_count": 49,
     "metadata": {},
     "output_type": "execute_result"
    }
   ],
   "source": [
    "list1 = [1,2,3,0]\n",
    "list1.sort()\n",
    "list1"
   ]
  },
  {
   "cell_type": "code",
   "execution_count": 13,
   "metadata": {},
   "outputs": [
    {
     "name": "stdout",
     "output_type": "stream",
     "text": [
      "A and B are equal\n",
      "90 90\n"
     ]
    }
   ],
   "source": [
    "a = 90\n",
    "b = 90\n",
    "if (b>a):\n",
    "    print(\"B is greater than A\")\n",
    "elif(a>b):\n",
    "    print(\"A is greater than B\")\n",
    "else:\n",
    "    print(\"A and B are equal\")\n",
    "print(a,b)"
   ]
  },
  {
   "cell_type": "code",
   "execution_count": 6,
   "metadata": {},
   "outputs": [
    {
     "data": {
      "text/plain": [
       "123"
      ]
     },
     "execution_count": 6,
     "metadata": {},
     "output_type": "execute_result"
    }
   ],
   "source": [
    "d={'key1':{'nesting':123}, 'key2':456}\n",
    "# d['animal'] = 'dog'\n",
    "# d['answer'] = 45\n",
    "d['key1']['nesting']"
   ]
  },
  {
   "cell_type": "markdown",
   "metadata": {},
   "source": [
    "### Assignment : 1\n",
    "A. WAP in Python that ask the user for his name and then welcome him"
   ]
  },
  {
   "cell_type": "code",
   "execution_count": 14,
   "metadata": {},
   "outputs": [
    {
     "name": "stdout",
     "output_type": "stream",
     "text": [
      "Enter your name : Tanmoy\n",
      "Hello Tanmoy\n",
      "Welcome to the world of Python\n"
     ]
    }
   ],
   "source": [
    "name = input(\"Enter your name : \")\n",
    "print(\"Hello\", name)\n",
    "print(\"Welcome to the world of Python\")"
   ]
  },
  {
   "cell_type": "markdown",
   "metadata": {},
   "source": [
    "B. WAP in python that accept seconds from keyboard as integer and convert in hours, minutes and seconds"
   ]
  },
  {
   "cell_type": "code",
   "execution_count": 18,
   "metadata": {},
   "outputs": [
    {
     "name": "stdout",
     "output_type": "stream",
     "text": [
      "Enter the seconds : 3692\n",
      "Hours =  1 \n",
      "Minutes =  1 \n",
      "Seconds =  32\n"
     ]
    }
   ],
   "source": [
    "s = int(input(\"Enter the seconds : \"))\n",
    "h = s // 3600\n",
    "m = (s % 3600) // 60\n",
    "se = s % 60\n",
    "print(\"Hours = \",h,\"\\nMinutes = \",m,\"\\nSeconds = \",se)"
   ]
  },
  {
   "cell_type": "markdown",
   "metadata": {},
   "source": [
    "C. WAP in Python that accept two integers and swap them without using third variable"
   ]
  },
  {
   "cell_type": "code",
   "execution_count": 19,
   "metadata": {},
   "outputs": [
    {
     "name": "stdout",
     "output_type": "stream",
     "text": [
      "Enter 1st Number : 34\n",
      "Enter 2nd Number : 45\n",
      "Before swaping a =  34 b =  45\n",
      "After swaping a =  45 b =  34\n"
     ]
    }
   ],
   "source": [
    "a = int(input(\"Enter 1st Number : \"))\n",
    "b = int(input(\"Enter 2nd Number : \"))\n",
    "print(\"Before swaping a = \",a, \"b = \",b)\n",
    "a, b = b, a\n",
    "print(\"After swaping a = \",a, \"b = \",b)"
   ]
  },
  {
   "cell_type": "markdown",
   "metadata": {},
   "source": [
    "D. WAP a program to find the area of a triangle of side a,b and c"
   ]
  },
  {
   "cell_type": "code",
   "execution_count": 4,
   "metadata": {},
   "outputs": [
    {
     "name": "stdout",
     "output_type": "stream",
     "text": [
      "Enter the 1st side of the triangle : 5\n",
      "Enter the 2nd side of the triangle : 4\n",
      "Enter the 3rd side of the triangle : 6\n",
      "The area is :  9.921567416492215\n"
     ]
    }
   ],
   "source": [
    "a = int(input(\"Enter the 1st side of the triangle : \"))\n",
    "b = int(input(\"Enter the 2nd side of the triangle : \"))\n",
    "c = int(input(\"Enter the 3rd side of the triangle : \"))\n",
    "s = (a + b + c)/2\n",
    "area = ((s*(s-a)*(s-b)*(s-c))**0.5)\n",
    "print(\"The area is : \",area)"
   ]
  },
  {
   "cell_type": "markdown",
   "metadata": {},
   "source": [
    "E. WAP to take input of principle amount, rate of interest and time period and print the compound interest"
   ]
  },
  {
   "cell_type": "code",
   "execution_count": 1,
   "metadata": {},
   "outputs": [
    {
     "name": "stdout",
     "output_type": "stream",
     "text": [
      "Enter the Principle amount : 1000\n",
      "Enter the rate of interest : 2\n",
      "Enter the time period : 2\n",
      "The compound interest is :  40.40000000000009\n"
     ]
    }
   ],
   "source": [
    "p = int(input(\"Enter the Principle amount : \"))\n",
    "r = float(input(\"Enter the rate of interest : \"))\n",
    "t = int(input(\"Enter the time period : \"))\n",
    "ci =(p*((1+(r/100))**t))-p\n",
    "print(\"The compound interest is : \",ci)"
   ]
  },
  {
   "cell_type": "markdown",
   "metadata": {},
   "source": [
    "### Assignment 2"
   ]
  },
  {
   "cell_type": "markdown",
   "metadata": {},
   "source": [
    "A. Write a Program that prompts the user to input a number and display if the number is even or odd"
   ]
  },
  {
   "cell_type": "code",
   "execution_count": 15,
   "metadata": {},
   "outputs": [
    {
     "name": "stdout",
     "output_type": "stream",
     "text": [
      "Enter the number : 78\n",
      "The number is even\n"
     ]
    }
   ],
   "source": [
    "num = int(input(\"Enter the number : \"))\n",
    "if num % 2 == 0:\n",
    "    print(\"The number is even\")\n",
    "else:\n",
    "    print(\"The number is odd\")"
   ]
  },
  {
   "cell_type": "markdown",
   "metadata": {},
   "source": [
    "B. WAP a python program to take input of number of days and print the corresponding day"
   ]
  },
  {
   "cell_type": "code",
   "execution_count": 2,
   "metadata": {},
   "outputs": [
    {
     "name": "stdout",
     "output_type": "stream",
     "text": [
      "Enter the day : 6\n",
      "Friday\n"
     ]
    }
   ],
   "source": [
    "day = int(input(\"Enter the day : \"))\n",
    "# d = {1:\"Sunday\", 2:\"Monday\",3:\"Tuesday\",4:\"Wednesday\",5:\"Thursday\",6:\"Friday\",7:\"Saturday\"}\n",
    "# print(d[day])\n",
    "if day == 1:\n",
    "    print(\"Sunday\")\n",
    "elif day == 2:\n",
    "    print(\"Monday\")\n",
    "elif day == 3:\n",
    "    print(\"Tuesday\")\n",
    "elif day == 4:\n",
    "    print(\"Wednesday\")\n",
    "elif day == 5:\n",
    "    print(\"Thursday\")\n",
    "elif day == 6:\n",
    "    print(\"Friday\")\n",
    "elif day == 7:\n",
    "    print(\"Saturday\")\n",
    "else:\n",
    "    print(\"Invalid Input\")"
   ]
  },
  {
   "cell_type": "markdown",
   "metadata": {},
   "source": [
    "C. WAP a python program to take input form the user and display the maximum of it"
   ]
  },
  {
   "cell_type": "code",
   "execution_count": 18,
   "metadata": {},
   "outputs": [
    {
     "name": "stdout",
     "output_type": "stream",
     "text": [
      "Enter the 1st Number :3\n",
      "Enter the 2nd Number :5\n",
      "Enter the 3rd Number :6\n",
      "The maximum amoung three :  6\n"
     ]
    }
   ],
   "source": [
    "a = int(input(\"Enter the 1st Number :\"))\n",
    "b = int(input(\"Enter the 2nd Number :\"))\n",
    "c = int(input(\"Enter the 3rd Number :\"))\n",
    "# print(\"The maximum amoung three : \",max(a,b,c))\n",
    "if (a>=b) and (a>=c):\n",
    "    print(\"The maximum amoung three : \",a)\n",
    "elif (b>=a) and (b>=c):\n",
    "    print(\"The maximum amoung three : \",b)\n",
    "else:\n",
    "    print(\"The maximum amoung three : \",c)"
   ]
  },
  {
   "cell_type": "code",
   "execution_count": 1,
   "metadata": {},
   "outputs": [
    {
     "name": "stdout",
     "output_type": "stream",
     "text": [
      "Enter the value of a : 1\n",
      "Enter the value of b : 4\n",
      "Enter the value of c : 4\n",
      "The root is :  -2.0\n"
     ]
    }
   ],
   "source": [
    "a = int(input(\"Enter the value of a : \"))\n",
    "b = int(input(\"Enter the value of b : \"))\n",
    "c = int(input(\"Enter the value of c : \"))\n",
    "if (a==0):\n",
    "    print(\"This is a linear equation\")\n",
    "else:\n",
    "    d = (b**2)-(4*a*c)\n",
    "    if d>0:\n",
    "        root1 = ((-1)*b + d**0.5)/(2*a)\n",
    "        root2 = ((-1)*b - d**0.5)/(2*a)\n",
    "        print(\"The roots are : \",root1, \"and \",root2)\n",
    "    elif d==0:\n",
    "        root1 = ((-1)*b)/(2*a)\n",
    "        print(\"The root is : \",root1)\n",
    "    else:\n",
    "        print(\"The roots are imaginary\")    "
   ]
  },
  {
   "cell_type": "code",
   "execution_count": 4,
   "metadata": {},
   "outputs": [
    {
     "name": "stdout",
     "output_type": "stream",
     "text": [
      "Enter the year :1900\n",
      "This is not a leap year\n"
     ]
    }
   ],
   "source": [
    "year = int(input(\"Enter the year :\"))\n",
    "if (year%400 == 0) or (year%4 == 0 and year%100 != 0):\n",
    "    print(\"This is a leap year\")\n",
    "else:\n",
    "    print(\"This is not a leap year\")"
   ]
  },
  {
   "cell_type": "code",
   "execution_count": 1,
   "metadata": {},
   "outputs": [
    {
     "name": "stdout",
     "output_type": "stream",
     "text": [
      "Enter a Character : G\n",
      "This is in upper case\n"
     ]
    }
   ],
   "source": [
    "s = input(\"Enter a Character : \")\n",
    "if(s.islower()):\n",
    "    print(\"This is in lower case\")\n",
    "elif(s.isupper()):\n",
    "    print(\"This is in upper case\")\n",
    "else:\n",
    "    print(\"This is not a character\")"
   ]
  },
  {
   "cell_type": "code",
   "execution_count": 7,
   "metadata": {},
   "outputs": [
    {
     "name": "stdout",
     "output_type": "stream",
     "text": [
      "Enter the number of  calls : 201\n",
      "Your Phone bill is :  255.4\n"
     ]
    }
   ],
   "source": [
    "num = int(input(\"Enter the number of  calls : \"))\n",
    "bill = 0\n",
    "if (num<=100):\n",
    "    bill = 200\n",
    "elif (num>100 and num<= 150):\n",
    "    bill = ((num - 100) * 0.6) + 200\n",
    "elif (num>150 and num<=200):\n",
    "    bill = (num - 150.0)*0.50 + 30.0 + 200\n",
    "else:\n",
    "    bill = ((num-200)*0.4) + (50 * 0.5) + (50 * 0.6) + 200\n",
    "print(\"Your Phone bill is : \",bill)"
   ]
  },
  {
   "cell_type": "markdown",
   "metadata": {},
   "source": [
    "### Assignment 3"
   ]
  },
  {
   "cell_type": "code",
   "execution_count": 10,
   "metadata": {},
   "outputs": [
    {
     "name": "stdout",
     "output_type": "stream",
     "text": [
      "1 2 3 4 5 6 7 8 9 10 "
     ]
    }
   ],
   "source": [
    "for x in range(1,11):\n",
    "    print(x,end=\" \") "
   ]
  },
  {
   "cell_type": "code",
   "execution_count": 11,
   "metadata": {},
   "outputs": [
    {
     "name": "stdout",
     "output_type": "stream",
     "text": [
      "Enter the range : 50\n",
      "Multiple of three are : \n",
      "0\n",
      "3\n",
      "6\n",
      "9\n",
      "12\n",
      "15\n",
      "18\n",
      "21\n",
      "24\n",
      "27\n",
      "30\n",
      "33\n",
      "36\n",
      "39\n",
      "42\n",
      "45\n",
      "48\n"
     ]
    }
   ],
   "source": [
    "num = int(input(\"Enter the range : \"))\n",
    "print(\"Multiple of three are : \")\n",
    "for i in range(1,num+1):\n",
    "    if i%3==0:\n",
    "        print(i)"
   ]
  },
  {
   "cell_type": "code",
   "execution_count": 14,
   "metadata": {},
   "outputs": [
    {
     "name": "stdout",
     "output_type": "stream",
     "text": [
      "Enter the number : 2\n",
      "Enter the power : 4\n",
      "2 to the power 4 is 16\n"
     ]
    }
   ],
   "source": [
    "num = int(input(\"Enter the number : \"))\n",
    "power = int(input(\"Enter the power : \"))\n",
    "ans = 1\n",
    "for i in range(power):\n",
    "    ans = ans*num\n",
    "print(num,\"to the power\",power,\"is\",ans)"
   ]
  },
  {
   "cell_type": "code",
   "execution_count": 19,
   "metadata": {},
   "outputs": [
    {
     "name": "stdout",
     "output_type": "stream",
     "text": [
      "Enter a number : 345\n",
      "The reverse number is :  543\n"
     ]
    }
   ],
   "source": [
    "# s = input(\"Enter the number : \")\n",
    "# s = s[::-1]\n",
    "# if(s[-1]=='-'):\n",
    "#     s1 = (-1)*int(s[:len(s)-1])\n",
    "#     print(s1)\n",
    "# else:\n",
    "#     print(int(s))\n",
    "n = int(input(\"Enter a number : \"))\n",
    "temp = abs(n)\n",
    "s = 0\n",
    "while temp>0:\n",
    "    s =(s*10)+(temp%10)\n",
    "    temp = temp // 10\n",
    "if n<0:\n",
    "    print(\"The reverse number is : \",(-1)*s)\n",
    "else:\n",
    "    print(\"The reverse number is : \", s)"
   ]
  },
  {
   "cell_type": "code",
   "execution_count": 21,
   "metadata": {},
   "outputs": [
    {
     "name": "stdout",
     "output_type": "stream",
     "text": [
      "Enter a number : 1221\n",
      "This is a palindrome number\n"
     ]
    }
   ],
   "source": [
    "n = int(input(\"Enter a number : \"))\n",
    "temp = abs(n)\n",
    "s = 0\n",
    "while temp>0:\n",
    "    s =(s*10)+(temp%10)\n",
    "    temp = temp // 10\n",
    "if n<0:\n",
    "    s *=(-1)\n",
    "if s == n:\n",
    "    print(\"This is a palindrome number\")\n",
    "else:\n",
    "    print(\"This is not a palindrome number\")"
   ]
  },
  {
   "cell_type": "code",
   "execution_count": 37,
   "metadata": {},
   "outputs": [
    {
     "name": "stdout",
     "output_type": "stream",
     "text": [
      "Enter the number : 10\n",
      "1010\n"
     ]
    }
   ],
   "source": [
    "num = int(input(\"Enter the number : \"))\n",
    "rem = num\n",
    "temp = \"\"\n",
    "while rem != 0:\n",
    "    temp = temp + str(rem%2)\n",
    "    rem = rem // 2\n",
    "temp = temp[::-1]\n",
    "print(int(temp))"
   ]
  },
  {
   "cell_type": "code",
   "execution_count": 3,
   "metadata": {},
   "outputs": [
    {
     "name": "stdout",
     "output_type": "stream",
     "text": [
      "Enter the number of term : 12\n",
      "The Fibonacci Series is : \n",
      "0 1 1 2 3 5 8 13 21 34 55 89 "
     ]
    }
   ],
   "source": [
    "num = int(input(\"Enter the number of term : \")) \n",
    "print(\"The Fibonacci Series is : \")\n",
    "if num == 1:\n",
    "    print(\"0\")\n",
    "else:\n",
    "    n1, n2, s1 = 0, 1, 0\n",
    "    print(n1, n2, end = \" \")\n",
    "    while num > 2:\n",
    "        s1 = n1 + n2\n",
    "        print(s1, end = \" \")\n",
    "        n1, n2 = n2, s1\n",
    "        num -= 1"
   ]
  },
  {
   "cell_type": "code",
   "execution_count": 4,
   "metadata": {},
   "outputs": [
    {
     "name": "stdout",
     "output_type": "stream",
     "text": [
      "Enter the lower bound of the range : 10\n",
      "Enter the upper bound of the range : 50\n",
      "The prime numbers from 10 to 50 are :  11 13 17 19 23 29 31 37 41 43 47 "
     ]
    }
   ],
   "source": [
    "num1 = int(input(\"Enter the lower bound of the range : \"))\n",
    "num2 = int(input(\"Enter the upper bound of the range : \"))\n",
    "print(\"The prime numbers from\",num1,\"to\",num2,\"are : \",end = \" \")\n",
    "for i in range(num1, num2+1):\n",
    "    for j in range(2, int(i**0.5)+1):\n",
    "        if i%j==0:\n",
    "            break\n",
    "    else:\n",
    "        print(i, end=\" \")"
   ]
  },
  {
   "cell_type": "code",
   "execution_count": 5,
   "metadata": {},
   "outputs": [
    {
     "name": "stdout",
     "output_type": "stream",
     "text": [
      "Enter the 1st number : 13\n",
      "Enter the 2nd number : 17\n",
      "The GCD of 13 and 17 is :  1 "
     ]
    }
   ],
   "source": [
    "num1 = int(input(\"Enter the 1st number : \"))\n",
    "num2 = int(input(\"Enter the 2nd number : \"))\n",
    "print(\"The GCD of\",num1,\"and\",num2,\"is : \", end =\" \")\n",
    "if num1 < num2:\n",
    "    num1, num2 = num2, num1\n",
    "while num1%num2 != 0:\n",
    "    num1, num2 = num2, num1%num2\n",
    "print(num2, end= \" \")"
   ]
  },
  {
   "cell_type": "markdown",
   "metadata": {},
   "source": [
    "### Assignment 3"
   ]
  },
  {
   "cell_type": "code",
   "execution_count": 7,
   "metadata": {},
   "outputs": [
    {
     "name": "stdout",
     "output_type": "stream",
     "text": [
      "The ans is :  2.7180555555555554\n"
     ]
    }
   ],
   "source": [
    "def fact(n):\n",
    "    if n==1:\n",
    "        return 1\n",
    "    else:\n",
    "        return n*fact(n-1)\n",
    "\n",
    "s = 0\n",
    "for i in range(1, 8):\n",
    "    s += (i/fact(i))\n",
    "print(\"The ans is : \", s)"
   ]
  },
  {
   "cell_type": "code",
   "execution_count": 11,
   "metadata": {},
   "outputs": [
    {
     "name": "stdout",
     "output_type": "stream",
     "text": [
      "Enter the number : -234\n",
      "The sum of the digits are :  9\n"
     ]
    }
   ],
   "source": [
    "num = int(input(\"Enter the number : \"))\n",
    "temp = abs(num)\n",
    "d = 0\n",
    "while temp > 0:\n",
    "    d = d + (temp%10)\n",
    "    temp //= 10\n",
    "print(\"The sum of the digits are : \", d)"
   ]
  },
  {
   "cell_type": "code",
   "execution_count": 13,
   "metadata": {},
   "outputs": [
    {
     "name": "stdout",
     "output_type": "stream",
     "text": [
      "Enter the number : 15\n",
      "This is not a prime number\n"
     ]
    }
   ],
   "source": [
    "num = int(input(\"Enter the number : \"))\n",
    "flag = True\n",
    "for i in range(2, int(num**0.5)+1):\n",
    "    if num%i==0:\n",
    "        flag = False\n",
    "        break\n",
    "if flag:\n",
    "    print(\"This is a prime number\")\n",
    "else:\n",
    "    print(\"This is not a prime number\")"
   ]
  },
  {
   "cell_type": "code",
   "execution_count": 18,
   "metadata": {},
   "outputs": [
    {
     "name": "stdout",
     "output_type": "stream",
     "text": [
      "Enter a Number (to stop press enter): -0\n",
      "Enter a Number (to stop press enter): \n",
      "The number of Zeros :  1\n",
      "The number of Negetive :  0\n",
      "The number of Positive :  0\n"
     ]
    }
   ],
   "source": [
    "z, p, np = 0, 0, 0\n",
    "while True:\n",
    "    n=input(\"Enter a Number (to stop press enter): \")\n",
    "    if n == \"\":\n",
    "        break\n",
    "    else:\n",
    "        n = int(n)\n",
    "        if n<0:\n",
    "            np += 1\n",
    "        elif n>0:\n",
    "            p += 1\n",
    "        else:\n",
    "            z += 1\n",
    "print(\"The number of Zeros : \", z)\n",
    "print(\"The number of Negetive : \", np)\n",
    "print(\"The number of Positive : \", p)"
   ]
  },
  {
   "cell_type": "code",
   "execution_count": 19,
   "metadata": {},
   "outputs": [
    {
     "name": "stdout",
     "output_type": "stream",
     "text": [
      "Enter a string : AEIOUabcd\n",
      "The Number of vowel is :  6\n"
     ]
    }
   ],
   "source": [
    "s = input(\"Enter a string : \")\n",
    "s = s.lower()\n",
    "v = 0\n",
    "for letter in s:\n",
    "    if letter == 'a'or letter == 'e' or letter == 'i' or letter == 'o' or letter == 'u':\n",
    "        v+=1\n",
    "print(\"The Number of vowel is : \",v)"
   ]
  },
  {
   "cell_type": "code",
   "execution_count": 25,
   "metadata": {},
   "outputs": [
    {
     "name": "stdout",
     "output_type": "stream",
     "text": [
      "Enter the number of terms of the series : 3\n",
      "The answer is :  0.8333333333333333\n"
     ]
    }
   ],
   "source": [
    "n = int(input(\"Enter the number of terms of the series : \"))\n",
    "s = 0\n",
    "for i in range(1, n+1):\n",
    "    if i%2 == 0:\n",
    "        s -= (1/i)\n",
    "    else:\n",
    "        s += (1/i)\n",
    "print(\"The answer is : \",s)"
   ]
  },
  {
   "cell_type": "code",
   "execution_count": 36,
   "metadata": {},
   "outputs": [
    {
     "name": "stdout",
     "output_type": "stream",
     "text": [
      "Enter the number of lines : 5\n",
      "    *\n",
      "   ***\n",
      "  *****\n",
      " *******\n",
      "*********\n"
     ]
    }
   ],
   "source": [
    "n = int(input(\"Enter the number of lines : \"))\n",
    "for i in range(1, n+1):\n",
    "    for j in range(1, n-i+1):\n",
    "        print(\" \", end = \"\")\n",
    "    for j in range(1, (2*i)):\n",
    "        print(\"*\", end=\"\")\n",
    "    print()"
   ]
  },
  {
   "cell_type": "code",
   "execution_count": 53,
   "metadata": {},
   "outputs": [
    {
     "name": "stdout",
     "output_type": "stream",
     "text": [
      "Enter the number of lines : 5\n",
      "    1\n",
      "   212\n",
      "  32123\n",
      " 4321234\n",
      "543212345\n"
     ]
    }
   ],
   "source": [
    "n = int(input(\"Enter the number of lines : \"))\n",
    "for i in range(1,n+1):\n",
    "    for j in range(n-i):\n",
    "        print(\" \", end = \"\")\n",
    "    for j in range(i, 0, -1):\n",
    "        print(j, end=\"\")\n",
    "    for j in range(2, i+1):\n",
    "        print(j, end=\"\")\n",
    "    print()"
   ]
  },
  {
   "cell_type": "code",
   "execution_count": 56,
   "metadata": {},
   "outputs": [
    {
     "name": "stdout",
     "output_type": "stream",
     "text": [
      "Enter the number of lines : 5\n",
      "\n",
      "1 \n",
      "2 3 \n",
      "4 5 6 \n",
      "7 8 9 10 \n",
      "11 12 13 14 15 \n"
     ]
    }
   ],
   "source": [
    "n = int(input(\"Enter the number of lines : \"))\n",
    "s = 1\n",
    "for i in range(n+1):\n",
    "    for j in range(i):\n",
    "        print(s, end=\" \")\n",
    "        s += 1\n",
    "    print()"
   ]
  },
  {
   "cell_type": "code",
   "execution_count": 81,
   "metadata": {},
   "outputs": [
    {
     "name": "stdout",
     "output_type": "stream",
     "text": [
      "Enter a the value of x : 90\n",
      "Enter a the value of n : 10\n",
      "The value of sin is :  1.000003358389061\n"
     ]
    }
   ],
   "source": [
    "def fact(n):\n",
    "    if n==1:\n",
    "        return 1\n",
    "    else:\n",
    "        return n*fact(n-1)\n",
    "\n",
    "x = int(input(\"Enter a the value of x : \"))\n",
    "n = int(input(\"Enter a the value of n : \"))\n",
    "c = 1\n",
    "s = 0\n",
    "x = x *((22/7)/180)\n",
    "for i in range(1, n+1, 2):\n",
    "    if c%2==0:\n",
    "        s -= (x**i)/fact(i)\n",
    "    else:\n",
    "        s += (x**i)/fact(i)\n",
    "    c += 1\n",
    "print(\"The value of sin is : \",s)"
   ]
  },
  {
   "cell_type": "code",
   "execution_count": 1,
   "metadata": {},
   "outputs": [
    {
     "name": "stdout",
     "output_type": "stream",
     "text": [
      "Guess a number between 0 to 50 : 40\n",
      "Too High, try again\n",
      "Guess a number between 0 to 50 : 30\n",
      "Too High, try again\n",
      "Guess a number between 0 to 50 : 20\n",
      "Too High, try again\n",
      "Guess a number between 0 to 50 : 10\n",
      "Too Low, try again\n",
      "Guess a number between 0 to 50 : 15\n",
      "Too Low, try again\n",
      "Guess a number between 0 to 50 : 17\n",
      "Too Low, try again\n",
      "Guess a number between 0 to 50 : 18\n",
      "Too Low, try again\n",
      "Guess a number between 0 to 50 : 19\n",
      "You have guessed the correct number in guess :  8\n"
     ]
    }
   ],
   "source": [
    "import random\n",
    "rand = random.randint(0, 50)\n",
    "guess = 1\n",
    "while True:\n",
    "    x = int(input(\"Guess a number between 0 to 50 : \"))\n",
    "    if x>rand:\n",
    "        print(\"Too High, try again\")\n",
    "    elif x<rand:\n",
    "        print(\"Too Low, try again\")\n",
    "    else:\n",
    "        print(\"You have guessed the correct number in guess : \",guess)\n",
    "        break\n",
    "    guess += 1"
   ]
  },
  {
   "cell_type": "markdown",
   "metadata": {},
   "source": [
    "### Assignment 4"
   ]
  },
  {
   "cell_type": "code",
   "execution_count": null,
   "metadata": {},
   "outputs": [
    {
     "name": "stdout",
     "output_type": "stream",
     "text": [
      "Enter the values : 12 23 34 45\n",
      "Number of elements must be multiple of three\n"
     ]
    }
   ],
   "source": [
    "li = [int(i) for i in input(\"Enter the values : \").split()]\n",
    "if len(li)%3!=0:\n",
    "    print(\"Number of elements must be multiple of three\")\n",
    "else:\n",
    "    chunk_1 = li[:(len(li)//3)]\n",
    "    chunk_2 = li[(len(li)//3):((len(li)//3)*2)]\n",
    "    chunk_3 = li[(len(li)//3)*2:]\n",
    "    print(\"The Chunk 1 is : \",chunk_1)\n",
    "    print(\"After reversing it : \",chunk_1[::-1])\n",
    "    print(\"The Chunk 2 is : \",chunk_2)\n",
    "    print(\"After reversing it : \",chunk_2[::-1])\n",
    "    print(\"The Chunk 3 is : \",chunk_3)\n",
    "    print(\"After reversing it : \",chunk_3[::-1])"
   ]
  },
  {
   "cell_type": "code",
   "execution_count": 15,
   "metadata": {},
   "outputs": [
    {
     "name": "stdout",
     "output_type": "stream",
     "text": [
      "Enter the values of the list : 1 2 2 3 3 1 1 4 4\n",
      "The number of  1 is 3\n",
      "The number of  2 is 2\n",
      "The number of  3 is 2\n",
      "The number of  4 is 2\n"
     ]
    }
   ],
   "source": [
    "li = [int(i) for i in input(\"Enter the values of the list : \").split()]\n",
    "d = {}\n",
    "for i in li:\n",
    "    if i in d.keys():\n",
    "        d[i] = d[i] + 1\n",
    "    else:\n",
    "        d[i] = 1\n",
    "for i in d.keys():\n",
    "    print(\"The number of \",i,\"is\",d[i])"
   ]
  },
  {
   "cell_type": "code",
   "execution_count": 24,
   "metadata": {},
   "outputs": [
    {
     "name": "stdout",
     "output_type": "stream",
     "text": [
      "Enter the values of the list : 1 2 34 5\n",
      "Enter the values of the list : 45 6\n",
      "{(1, 45), (2, 6)}\n"
     ]
    }
   ],
   "source": [
    "li1 = [int(i) for i in input(\"Enter the values of the 1st list : \").split()]\n",
    "li2 = [int(i) for i in input(\"Enter the values of the 2nd list : \").split()]\n",
    "# if len(li1)!=len(li2):\n",
    "#     print(\"Lists does not have equal number of elements\")\n",
    "# else:\n",
    "#     s, i, j = set(), 0, 0\n",
    "#     while i!=len(li1)-1:\n",
    "#         s.add((li1[i], li2[j]))\n",
    "#         i+=1\n",
    "#         j+=1\n",
    "# print(s)\n",
    "\n",
    "z = set(zip(li1,li2))\n",
    "print(z)"
   ]
  },
  {
   "cell_type": "code",
   "execution_count": 26,
   "metadata": {},
   "outputs": [
    {
     "name": "stdout",
     "output_type": "stream",
     "text": [
      "Enter the values of the 1st list : 27 43 34\n",
      "Enter the values of the 2nd list : 34 93 22 27 43 53 48\n",
      "First is subset of second set - True\n",
      "Second is subset of first set - False\n",
      "First is super set of second set - False\n",
      "Second is super set of first set - True\n",
      "First set :  set()\n",
      "Second set :  {34, 43, 48, 53, 22, 27, 93}\n"
     ]
    }
   ],
   "source": [
    "li1 = set(int(i) for i in input(\"Enter the values of the 1st list : \").split())\n",
    "li2 = set(int(i) for i in input(\"Enter the values of the 2nd list : \").split())\n",
    "if li1.issubset(li2):\n",
    "    print(\"First is subset of second set - True\")\n",
    "    li1 = set()\n",
    "else:\n",
    "    print(\"First is subset of second set - False\")\n",
    "if li2.issubset(li1):\n",
    "    print(\"Second is subset of first set - True\")\n",
    "else:\n",
    "    print(\"Second is subset of first set - False\")\n",
    "if li1.issuperset(li2):\n",
    "    print(\"First is super set of second set - True\")\n",
    "else:\n",
    "    print(\"First is super set of second set - False\")\n",
    "if li2.issuperset(li1):\n",
    "    print(\"Second is super set of first set - True\")\n",
    "else:\n",
    "    print(\"Second is super set of first set - False\")\n",
    "if li1.issubset(li2):\n",
    "    li1 = set()\n",
    "elif li2.issubset(li1):\n",
    "    li2 = set()\n",
    "print(\"First set : \",li1)\n",
    "print(\"Second set : \",li2)"
   ]
  },
  {
   "cell_type": "code",
   "execution_count": 27,
   "metadata": {},
   "outputs": [
    {
     "name": "stdout",
     "output_type": "stream",
     "text": [
      "[47, 52, 44, 53, 54]\n"
     ]
    }
   ],
   "source": [
    "li = []\n",
    "d = {'jan':47, 'feb':52, 'march':47, 'april':44,'may':52,'june':53,'july':54, 'aug':44, 'sept':54}\n",
    "for val in d.values():\n",
    "    if val not in li:\n",
    "        li.append(val)\n",
    "print(li)"
   ]
  },
  {
   "cell_type": "code",
   "execution_count": 2,
   "metadata": {},
   "outputs": [
    {
     "name": "stdout",
     "output_type": "stream",
     "text": [
      "Enter the date in (dd/mm/yyyy) format : 03/12/2022\n",
      "March 12 , 2022\n"
     ]
    }
   ],
   "source": [
    "s = input(\"Enter the date in (dd/mm/yyyy) format : \")\n",
    "month = {1:'January', 2:'February', 3:'March', 4:'April',5:'May',6:'June',7:'July', 8:'August', 9:'September',\n",
    "         10:'October',11:'November', 12:'December'}\n",
    "m = int(s[:2])\n",
    "d = int(s[3:5])\n",
    "y = int(s[6:])\n",
    "print(month[m],d,\",\",y)"
   ]
  },
  {
   "cell_type": "code",
   "execution_count": 8,
   "metadata": {},
   "outputs": [
    {
     "name": "stdout",
     "output_type": "stream",
     "text": [
      "Enter the values of the list : 1 2 3 4 5 6\n",
      "The list is :  [1, 2, 3, 4, 5, 6]\n",
      "1. Rotate the list\n",
      "2. Exit\n",
      "Enter your choice : 1\n",
      "The list after rotating is :  [6, 1, 2, 3, 4, 5]\n",
      "1. Rotate the list\n",
      "2. Exit\n",
      "Enter your choice : 1\n",
      "The list after rotating is :  [5, 6, 1, 2, 3, 4]\n",
      "1. Rotate the list\n",
      "2. Exit\n",
      "Enter your choice : 1\n",
      "The list after rotating is :  [4, 5, 6, 1, 2, 3]\n",
      "1. Rotate the list\n",
      "2. Exit\n",
      "Enter your choice : 1\n",
      "The list after rotating is :  [3, 4, 5, 6, 1, 2]\n",
      "1. Rotate the list\n",
      "2. Exit\n",
      "Enter your choice : 1\n",
      "The list after rotating is :  [2, 3, 4, 5, 6, 1]\n",
      "1. Rotate the list\n",
      "2. Exit\n",
      "Enter your choice : 2\n",
      "Exiting\n"
     ]
    }
   ],
   "source": [
    "li = [int(i) for i in input(\"Enter the values of the list : \").split()]\n",
    "print(\"The list is : \",li)\n",
    "while(True):\n",
    "    print(\"1. Rotate the list\")\n",
    "    print(\"2. Exit\")\n",
    "    choice = int(input(\"Enter your choice : \"))\n",
    "    if(choice==1):\n",
    "        temp = li[:len(li)-1]\n",
    "        temp.insert(0,li[-1])\n",
    "        li = temp\n",
    "        print(\"The list after rotating is : \",li)\n",
    "    else:\n",
    "        print(\"Exiting\")\n",
    "        break"
   ]
  },
  {
   "cell_type": "code",
   "execution_count": 7,
   "metadata": {},
   "outputs": [
    {
     "name": "stdout",
     "output_type": "stream",
     "text": [
      "Enter the number of rows : 3\n",
      "Enter the number of columns : 3\n",
      "Enter the element-[ 0 ] [ 0 ] : \n",
      "0\n",
      "Enter the element-[ 0 ] [ 1 ] : \n",
      "0\n",
      "Enter the element-[ 0 ] [ 2 ] : \n",
      "2\n",
      "Enter the element-[ 1 ] [ 0 ] : \n",
      "0\n",
      "Enter the element-[ 1 ] [ 1 ] : \n",
      "0\n",
      "Enter the element-[ 1 ] [ 2 ] : \n",
      "3\n",
      "Enter the element-[ 2 ] [ 0 ] : \n",
      "0\n",
      "Enter the element-[ 2 ] [ 1 ] : \n",
      "0\n",
      "Enter the element-[ 2 ] [ 2 ] : \n",
      "4\n",
      "The sum of each row is :  [2, 3, 4]\n"
     ]
    }
   ],
   "source": [
    "temp = []\n",
    "mat = []\n",
    "row_sum = []\n",
    "s = 0\n",
    "m = int(input(\"Enter the number of rows : \"))\n",
    "n = int(input(\"Enter the number of columns : \"))\n",
    "for i in range(m):\n",
    "    for j in range(n):\n",
    "        print(\"Enter the element-[\",i,\"]\",\"[\",j,\"] : \")\n",
    "        x = int(input())\n",
    "        temp.append(x)\n",
    "        s+=x\n",
    "    mat.append(temp)\n",
    "    row_sum.append(s)\n",
    "    temp = []\n",
    "    s = 0\n",
    "print(\"The sum of each row is : \",row_sum)"
   ]
  },
  {
   "cell_type": "code",
   "execution_count": 5,
   "metadata": {},
   "outputs": [
    {
     "name": "stdout",
     "output_type": "stream",
     "text": [
      "{'yellow': [1, 3], 'blue': [2, 4], 'red': [1]}\n"
     ]
    }
   ],
   "source": [
    "d = [('yellow',1), ('blue',2), ('yellow',3), ('blue',4), ('red',1)]\n",
    "ans={}\n",
    "for i in d:\n",
    "    if i[0] in ans.keys():\n",
    "        ans[i[0]].append(i[1])\n",
    "    else:\n",
    "        ans[i[0]] = [i[1]]\n",
    "print(ans)"
   ]
  },
  {
   "cell_type": "code",
   "execution_count": null,
   "metadata": {},
   "outputs": [],
   "source": [
    "dq = []\n",
    "\n",
    "\n",
    "def inpleft(l):\n",
    "    val = int(input(\"Enter the value : \"))\n",
    "    l.insert(0, val)\n",
    "    print(val, \"is inserted at begining\")\n",
    "\n",
    "\n",
    "def inpright(l):\n",
    "    val = int(input(\"Enter the value : \"))\n",
    "    l.append(val)\n",
    "    print(val, \"is inserted at last\")\n",
    "\n",
    "\n",
    "def delleft(l):\n",
    "    print(f\"{l.pop()} is Popped from the Deque\")\n",
    "\n",
    "\n",
    "def delright(l):\n",
    "    print(f\"{l.pop(0)} is Popped from the Deque\")\n",
    "\n",
    "\n",
    "def rev(l):\n",
    "    global dq\n",
    "    dq = dq[::-1]\n",
    "    print(\"Deque is reversed\")\n",
    "\n",
    "\n",
    "def display(l):\n",
    "    print(\"The Deque is : \", l)\n",
    "\n",
    "\n",
    "print(\"1. Insert Left\")\n",
    "print(\"2. Insert Right\")\n",
    "print(\"3. Reverse\")\n",
    "print(\"4. Delete Left\")\n",
    "print(\"5. Delete Right\")\n",
    "print(\"6. Display\")\n",
    "print(\"7. Exit\")\n",
    "options = {1: inpleft, 2: inpright, 3: rev, 4: delleft, 5: delright, 6: display}\n",
    "while (True):\n",
    "    choice = int(input(\"Enter your choice : \"))\n",
    "    if choice in options.keys():\n",
    "        options[choice](dq)\n",
    "    elif choice == 7:\n",
    "        print(\"Exiting\")\n",
    "        break\n",
    "    else:\n",
    "        print(\"Invalid Input\")\n"
   ]
  }
 ],
 "metadata": {
  "kernelspec": {
   "display_name": "Python 3.9.6 64-bit",
   "language": "python",
   "name": "python3"
  },
  "language_info": {
   "codemirror_mode": {
    "name": "ipython",
    "version": 3
   },
   "file_extension": ".py",
   "mimetype": "text/x-python",
   "name": "python",
   "nbconvert_exporter": "python",
   "pygments_lexer": "ipython3",
   "version": "3.9.6"
  },
  "vscode": {
   "interpreter": {
    "hash": "d49c3f6d6dd49f9272b571d9fad348ab55b8c6c3f691520d74ed0af1f69c3dd8"
   }
  }
 },
 "nbformat": 4,
 "nbformat_minor": 2
}
