{
 "cells": [
  {
   "cell_type": "markdown",
   "metadata": {},
   "source": [
    "### Iris Dataset\n",
    " - This notebook implements a neural network to predict the species of the plants "
   ]
  },
  {
   "cell_type": "markdown",
   "metadata": {},
   "source": [
    "Importing all the necessary libraies "
   ]
  },
  {
   "cell_type": "code",
   "execution_count": 1,
   "metadata": {},
   "outputs": [],
   "source": [
    "import numpy as np\n",
    "import pandas as pd\n",
    "import tensorflow as tf\n",
    "from tensorflow.keras.models import Sequential\n",
    "from tensorflow.keras.layers import Dense"
   ]
  },
  {
   "cell_type": "markdown",
   "metadata": {},
   "source": [
    "Importing the dataset"
   ]
  },
  {
   "cell_type": "code",
   "execution_count": 2,
   "metadata": {},
   "outputs": [],
   "source": [
    "from sklearn import datasets"
   ]
  },
  {
   "cell_type": "code",
   "execution_count": 3,
   "metadata": {},
   "outputs": [],
   "source": [
    "X, y = datasets.load_iris(return_X_y=True)"
   ]
  },
  {
   "cell_type": "code",
   "execution_count": 4,
   "metadata": {},
   "outputs": [
    {
     "name": "stdout",
     "output_type": "stream",
     "text": [
      "X =  (150, 4)\n",
      "y =  (150,)\n"
     ]
    }
   ],
   "source": [
    "print(\"X = \",X.shape)\n",
    "print(\"y = \",y.shape)"
   ]
  },
  {
   "cell_type": "markdown",
   "metadata": {},
   "source": [
    "Increasing the number of inputs using the **np.tile()** method"
   ]
  },
  {
   "cell_type": "code",
   "execution_count": 5,
   "metadata": {},
   "outputs": [
    {
     "name": "stdout",
     "output_type": "stream",
     "text": [
      "(150000, 4) (150000,)\n"
     ]
    }
   ],
   "source": [
    "Xt = np.tile(X, (1000, 1))\n",
    "yt = np.tile(y, (1000, ))\n",
    "print(Xt.shape, yt.shape)"
   ]
  },
  {
   "cell_type": "markdown",
   "metadata": {},
   "source": [
    "Spliting the data into training and testing set"
   ]
  },
  {
   "cell_type": "code",
   "execution_count": 6,
   "metadata": {},
   "outputs": [
    {
     "name": "stdout",
     "output_type": "stream",
     "text": [
      "X_train :  (105000, 4)\n",
      "X_test :  (45000, 4)\n",
      "y_train :  (105000,)\n",
      "y_test :  (45000,)\n"
     ]
    }
   ],
   "source": [
    "from sklearn.model_selection import train_test_split\n",
    "\n",
    "X_train, X_test, y_train, y_test = train_test_split(Xt, yt, test_size=0.3, random_state=42)\n",
    "print(\"X_train : \",X_train.shape)\n",
    "print(\"X_test : \",X_test.shape)\n",
    "print(\"y_train : \",y_train.shape)\n",
    "print(\"y_test : \",y_test.shape)"
   ]
  },
  {
   "cell_type": "markdown",
   "metadata": {},
   "source": [
    "Setting up the neural network model"
   ]
  },
  {
   "cell_type": "code",
   "execution_count": 10,
   "metadata": {},
   "outputs": [],
   "source": [
    "tf.random.set_seed(123)\n",
    "model = Sequential(\n",
    "    [\n",
    "        tf.keras.Input(shape=(4, )),\n",
    "        Dense(5, activation='relu', name='layer1'),\n",
    "        Dense(3, activation='linear', name='layer2')\n",
    "\n",
    "    ]\n",
    ")"
   ]
  },
  {
   "cell_type": "markdown",
   "metadata": {},
   "source": [
    "The summary of the model"
   ]
  },
  {
   "cell_type": "code",
   "execution_count": 11,
   "metadata": {},
   "outputs": [
    {
     "name": "stdout",
     "output_type": "stream",
     "text": [
      "Model: \"sequential_1\"\n",
      "_________________________________________________________________\n",
      " Layer (type)                Output Shape              Param #   \n",
      "=================================================================\n",
      " layer1 (Dense)              (None, 5)                 25        \n",
      "                                                                 \n",
      " layer2 (Dense)              (None, 3)                 18        \n",
      "                                                                 \n",
      "=================================================================\n",
      "Total params: 43\n",
      "Trainable params: 43\n",
      "Non-trainable params: 0\n",
      "_________________________________________________________________\n"
     ]
    }
   ],
   "source": [
    "model.summary()"
   ]
  },
  {
   "cell_type": "markdown",
   "metadata": {},
   "source": [
    "Training the model"
   ]
  },
  {
   "cell_type": "code",
   "execution_count": 12,
   "metadata": {},
   "outputs": [
    {
     "name": "stdout",
     "output_type": "stream",
     "text": [
      "Epoch 1/20\n",
      "3282/3282 [==============================] - 12s 3ms/step - loss: 0.1210\n",
      "Epoch 2/20\n",
      "3282/3282 [==============================] - 10s 3ms/step - loss: 0.0516\n",
      "Epoch 3/20\n",
      "3282/3282 [==============================] - 10s 3ms/step - loss: 0.0480\n",
      "Epoch 4/20\n",
      "3282/3282 [==============================] - 10s 3ms/step - loss: 0.0466\n",
      "Epoch 5/20\n",
      "3282/3282 [==============================] - 11s 3ms/step - loss: 0.0454\n",
      "Epoch 6/20\n",
      "3282/3282 [==============================] - 11s 3ms/step - loss: 0.0456\n",
      "Epoch 7/20\n",
      "3282/3282 [==============================] - 12s 4ms/step - loss: 0.0453\n",
      "Epoch 8/20\n",
      "3282/3282 [==============================] - 12s 4ms/step - loss: 0.0449\n",
      "Epoch 9/20\n",
      "3282/3282 [==============================] - 12s 4ms/step - loss: 0.0442\n",
      "Epoch 10/20\n",
      "3282/3282 [==============================] - 14s 4ms/step - loss: 0.0442\n",
      "Epoch 11/20\n",
      "3282/3282 [==============================] - 13s 4ms/step - loss: 0.0446\n",
      "Epoch 12/20\n",
      "3282/3282 [==============================] - 14s 4ms/step - loss: 0.0451\n",
      "Epoch 13/20\n",
      "3282/3282 [==============================] - 15s 5ms/step - loss: 0.0438\n",
      "Epoch 14/20\n",
      "3282/3282 [==============================] - 18s 5ms/step - loss: 0.0442\n",
      "Epoch 15/20\n",
      "3282/3282 [==============================] - 17s 5ms/step - loss: 0.0436\n",
      "Epoch 16/20\n",
      "3282/3282 [==============================] - 17s 5ms/step - loss: 0.0436\n",
      "Epoch 17/20\n",
      "3282/3282 [==============================] - 15s 5ms/step - loss: 0.0434\n",
      "Epoch 18/20\n",
      "3282/3282 [==============================] - 16s 5ms/step - loss: 0.0430\n",
      "Epoch 19/20\n",
      "3282/3282 [==============================] - 18s 5ms/step - loss: 0.0432\n",
      "Epoch 20/20\n",
      "3282/3282 [==============================] - 16s 5ms/step - loss: 0.0429\n"
     ]
    },
    {
     "data": {
      "text/plain": [
       "<keras.callbacks.History at 0x216a3490310>"
      ]
     },
     "execution_count": 12,
     "metadata": {},
     "output_type": "execute_result"
    }
   ],
   "source": [
    "model.compile(\n",
    "    loss = tf.keras.losses.SparseCategoricalCrossentropy(from_logits=True),\n",
    "    optimizer = tf.keras.optimizers.Adam(learning_rate=0.01),\n",
    ")\n",
    "model.fit(\n",
    "    X_train,y_train,            \n",
    "    epochs=20,\n",
    ")"
   ]
  },
  {
   "cell_type": "markdown",
   "metadata": {},
   "source": [
    "Displaying the calculated weights and biases"
   ]
  },
  {
   "cell_type": "code",
   "execution_count": 15,
   "metadata": {},
   "outputs": [
    {
     "data": {
      "text/plain": [
       "[array([[-5.3282881e-01,  5.2834409e-01, -3.0108631e-02],\n",
       "        [ 6.7971473e+00, -8.4167826e-01, -9.2198128e-01],\n",
       "        [ 7.9676753e-01, -3.4556180e-01, -6.8147171e-01],\n",
       "        [-3.7606022e+01, -1.1644717e+00,  2.2888715e+00],\n",
       "        [ 1.4906223e-02,  1.0217792e-01, -2.9046530e-02]], dtype=float32),\n",
       " array([-38.118515 ,   4.8952217,  -6.500722 ], dtype=float32)]"
      ]
     },
     "execution_count": 15,
     "metadata": {},
     "output_type": "execute_result"
    }
   ],
   "source": [
    "model.get_layer('layer2').get_weights()"
   ]
  },
  {
   "cell_type": "markdown",
   "metadata": {},
   "source": [
    "Making predictions on the test set"
   ]
  },
  {
   "cell_type": "code",
   "execution_count": 16,
   "metadata": {},
   "outputs": [
    {
     "name": "stdout",
     "output_type": "stream",
     "text": [
      "1407/1407 [==============================] - 5s 3ms/step\n"
     ]
    },
    {
     "data": {
      "text/plain": [
       "(45000, 3)"
      ]
     },
     "execution_count": 16,
     "metadata": {},
     "output_type": "execute_result"
    }
   ],
   "source": [
    "y_pred = model.predict(X_test)\n",
    "y_pred.shape"
   ]
  },
  {
   "cell_type": "markdown",
   "metadata": {},
   "source": [
    "Converting the output into the catagories"
   ]
  },
  {
   "cell_type": "code",
   "execution_count": 19,
   "metadata": {},
   "outputs": [],
   "source": [
    "result = tf.nn.softmax(y_pred)"
   ]
  },
  {
   "cell_type": "code",
   "execution_count": 22,
   "metadata": {},
   "outputs": [],
   "source": [
    "y_hat = []\n",
    "for i in result:\n",
    "    y_hat.append(np.argmax(i))"
   ]
  },
  {
   "cell_type": "markdown",
   "metadata": {},
   "source": [
    "Printing the accuracy score"
   ]
  },
  {
   "cell_type": "code",
   "execution_count": 28,
   "metadata": {},
   "outputs": [
    {
     "name": "stdout",
     "output_type": "stream",
     "text": [
      "The accuracy score of the model is : 98.649%\n"
     ]
    }
   ],
   "source": [
    "from sklearn.metrics import accuracy_score\n",
    "\n",
    "print(f\"The accuracy score of the model is : {accuracy_score(y_test, y_hat)*100:.3f}%\")"
   ]
  }
 ],
 "metadata": {
  "kernelspec": {
   "display_name": "Python 3.9.6 64-bit",
   "language": "python",
   "name": "python3"
  },
  "language_info": {
   "codemirror_mode": {
    "name": "ipython",
    "version": 3
   },
   "file_extension": ".py",
   "mimetype": "text/x-python",
   "name": "python",
   "nbconvert_exporter": "python",
   "pygments_lexer": "ipython3",
   "version": "3.9.6"
  },
  "orig_nbformat": 4,
  "vscode": {
   "interpreter": {
    "hash": "d49c3f6d6dd49f9272b571d9fad348ab55b8c6c3f691520d74ed0af1f69c3dd8"
   }
  }
 },
 "nbformat": 4,
 "nbformat_minor": 2
}
