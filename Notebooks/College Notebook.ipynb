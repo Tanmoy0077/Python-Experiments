{
 "cells": [
  {
   "cell_type": "markdown",
   "id": "7778d286",
   "metadata": {},
   "source": [
    "### IT Lab using Python"
   ]
  },
  {
   "cell_type": "markdown",
   "id": "19532346",
   "metadata": {},
   "source": [
    "### Assignment 1\n",
    "A. WAP in Python which asks the user to input the name and then greet the user"
   ]
  },
  {
   "cell_type": "code",
   "execution_count": 1,
   "id": "72d21016",
   "metadata": {},
   "outputs": [
    {
     "name": "stdout",
     "output_type": "stream",
     "text": [
      "Enter Your name : Tanmoy Pradhan\n",
      "Hello Tanmoy Pradhan\n",
      "Welcome to the world of Python\n"
     ]
    }
   ],
   "source": [
    "name = input(\"Enter Your name : \")\n",
    "print(\"Hello\", name)\n",
    "print(\"Welcome to the world of Python\")"
   ]
  },
  {
   "cell_type": "markdown",
   "id": "1cc28d37",
   "metadata": {},
   "source": [
    "B. WAP in python to take seconds as input and covert them into hours, minutes and seconds"
   ]
  },
  {
   "cell_type": "code",
   "execution_count": null,
   "id": "ac57942a",
   "metadata": {},
   "outputs": [
    {
     "name": "stdout",
     "output_type": "stream",
     "text": [
      "Enter the second : 4000\n",
      "4000 Second = 1 Hours 6 Minutes 40 Seconds\n"
     ]
    }
   ],
   "source": [
    "second = int(input(\"Enter the second : \"))\n",
    "hours = second // 3600\n",
    "minutes = (second % 3600) // 60\n",
    "sec = second % 60\n",
    "print(second, \"Second =\", hours, \"Hours\", minutes, \"Minutes\", sec, \"Seconds\")"
   ]
  },
  {
   "cell_type": "markdown",
   "id": "c546022b",
   "metadata": {},
   "source": [
    "C. WAP in Python to swap two variables without using third variable"
   ]
  },
  {
   "cell_type": "code",
   "execution_count": 4,
   "id": "e1347a3d",
   "metadata": {},
   "outputs": [
    {
     "name": "stdout",
     "output_type": "stream",
     "text": [
      "Enter the first number : 34\n",
      "Enter the second number : 67\n",
      "Before Swapping A = 34 and B = 67\n",
      "After Swapping A = 67 and B = 34\n"
     ]
    }
   ],
   "source": [
    "num1 = int(input(\"Enter the first number : \"))\n",
    "num2 = int(input(\"Enter the second number : \"))\n",
    "print(\"Before Swapping A =\", num1, \"and B =\", num2)\n",
    "(num1, num2) = (num2, num1)\n",
    "print(\"After Swapping A =\", num1, \"and B =\", num2)"
   ]
  },
  {
   "cell_type": "markdown",
   "id": "60ed304d",
   "metadata": {},
   "source": [
    "### Assignment 3"
   ]
  },
  {
   "cell_type": "markdown",
   "id": "bc7e9a1c",
   "metadata": {},
   "source": [
    "A. Print numbers from 1 to 10"
   ]
  },
  {
   "cell_type": "code",
   "execution_count": 2,
   "id": "d94099dc",
   "metadata": {},
   "outputs": [
    {
     "name": "stdout",
     "output_type": "stream",
     "text": [
      "1 2 3 4 5 6 7 8 9 10 "
     ]
    }
   ],
   "source": [
    "for i in range(1, 11):\n",
    "    print(i, end = \" \")"
   ]
  },
  {
   "cell_type": "markdown",
   "id": "0e6f7aa3",
   "metadata": {},
   "source": [
    "B. Print the numbers which are multiple of 3 in the given range"
   ]
  },
  {
   "cell_type": "code",
   "execution_count": 1,
   "id": "17c85939",
   "metadata": {},
   "outputs": [
    {
     "name": "stdout",
     "output_type": "stream",
     "text": [
      "Enter the range : 21\n",
      "Multiple of the 3 between 1 to 21 are : \n",
      "3 6 9 12 15 18 21 "
     ]
    }
   ],
   "source": [
    "num = int(input(\"Enter the range : \"))\n",
    "print(\"Multiple of the 3 between 1 to\",num,\"are : \")\n",
    "for i in range(1, num+1):\n",
    "    if i % 3 == 0:\n",
    "        print(i, end=\" \")"
   ]
  },
  {
   "cell_type": "code",
   "execution_count": 5,
   "id": "b71c2f8c",
   "metadata": {},
   "outputs": [
    {
     "name": "stdout",
     "output_type": "stream",
     "text": [
      "Enter the value : 2\n",
      "Enter the power : 4\n",
      "2 to the power 4 is : 16\n"
     ]
    }
   ],
   "source": [
    "num = int(input(\"Enter the value : \"))\n",
    "power = int(input(\"Enter the power : \"))\n",
    "ans = 1\n",
    "for i in range(power):\n",
    "    ans = ans * num\n",
    "print(num,\"to the power\",power,\"is :\",ans)"
   ]
  },
  {
   "cell_type": "code",
   "execution_count": 9,
   "id": "41c182d5",
   "metadata": {},
   "outputs": [
    {
     "name": "stdout",
     "output_type": "stream",
     "text": [
      "Enter the number : 90000\n",
      "The reverse of the number is : 9\n"
     ]
    }
   ],
   "source": [
    "num = int(input(\"Enter the number : \"))\n",
    "temp = abs(num)\n",
    "d = 0\n",
    "while temp > 0:\n",
    "    d = (d * 10) + (temp % 10)\n",
    "    temp //= 10\n",
    "if num < 0:\n",
    "    d *= (-1)\n",
    "print(\"The reverse of the number is :\",d)"
   ]
  },
  {
   "cell_type": "code",
   "execution_count": 19,
   "id": "9112e296",
   "metadata": {},
   "outputs": [
    {
     "name": "stdout",
     "output_type": "stream",
     "text": [
      "Enter the number : -2332\n",
      "This is a palindrome number\n"
     ]
    }
   ],
   "source": [
    "num = int(input(\"Enter the number : \"))\n",
    "temp = abs(num)\n",
    "d = 0\n",
    "while temp > 0:\n",
    "    d = (d * 10) + (temp % 10)\n",
    "    temp //= 10\n",
    "if num < 0:\n",
    "    d *= (-1)\n",
    "if num == d:\n",
    "    print(\"This is a palindrome number\")\n",
    "else:\n",
    "    print(\"This is not a palindrome number\")"
   ]
  },
  {
   "cell_type": "code",
   "execution_count": 20,
   "id": "ad6b4f3e",
   "metadata": {},
   "outputs": [
    {
     "name": "stdout",
     "output_type": "stream",
     "text": [
      "Enter the number : 21\n",
      "The Binary equvalent of 21 is : 10101\n"
     ]
    }
   ],
   "source": [
    "num = int(input(\"Enter the number : \"))\n",
    "temp = num\n",
    "s = \"\"\n",
    "while temp > 0:\n",
    "    s += str(temp % 2)\n",
    "    temp //= 2\n",
    "s = s[::-1]\n",
    "print(\"The Binary equivalent of\",num,\"is :\",s)"
   ]
  },
  {
   "cell_type": "code",
   "execution_count": 17,
   "id": "1381a0dd",
   "metadata": {},
   "outputs": [
    {
     "name": "stdout",
     "output_type": "stream",
     "text": [
      "Enter the number of term : 12\n",
      "The Fibonacci series is : \n",
      "0 1 1 2 3 5 8 13 21 34 55 89 "
     ]
    }
   ],
   "source": [
    "num = int(input(\"Enter the number of term : \"))\n",
    "print(\"The Fibonacci series is : \")\n",
    "if num == 1:\n",
    "    print(\"0\")\n",
    "else:\n",
    "    n1, n2, s1 = 0, 1, 0\n",
    "    print(n1, n2, end = \" \")\n",
    "    while num > 2:\n",
    "        s1 = n1 + n2\n",
    "        print(s1, end = \" \")\n",
    "        n1, n2 = n2, s1\n",
    "        num -= 1"
   ]
  },
  {
   "cell_type": "code",
   "execution_count": 1,
   "id": "09de09d0",
   "metadata": {},
   "outputs": [
    {
     "name": "stdout",
     "output_type": "stream",
     "text": [
      "Enter the lower bound of the range : 10\n",
      "Enter the upper bound of the range : 50\n",
      "The prime numbers from  10 to 50 are :  11 13 17 19 23 29 31 37 41 43 47 "
     ]
    }
   ],
   "source": [
    "num1 = int(input(\"Enter the lower bound of the range : \"))\n",
    "num2 = int(input(\"Enter the upper bound of the range : \"))\n",
    "print(\"The prime numbers from \",num1,\"to\",num2,\"are : \", end = \" \")\n",
    "for i in range(num1, num2+1):\n",
    "    for j in range(2, int(i ** 0.5)+1):\n",
    "        if i % j == 0:\n",
    "            break\n",
    "    else:\n",
    "        print(i, end = \" \")"
   ]
  },
  {
   "cell_type": "code",
   "execution_count": 2,
   "id": "4a61a69b",
   "metadata": {},
   "outputs": [
    {
     "name": "stdout",
     "output_type": "stream",
     "text": [
      "Enter the 1st Number : 13\n",
      "Enter the 2nd Number : 17\n",
      "The GCD of 13 and 17 is :  1 "
     ]
    }
   ],
   "source": [
    "num1 = int(input(\"Enter the 1st Number : \"))\n",
    "num2 = int(input(\"Enter the 2nd Number : \"))\n",
    "print(\"The GCD of\",num1,\"and\",num2,\"is : \", end = \" \")\n",
    "if num1 < num2:\n",
    "    num1, num2 = num2, num1\n",
    "while num1 % num2 != 0:\n",
    "    num1, num2 = num2, num1 % num2\n",
    "print(num2, end = \" \")"
   ]
  }
 ],
 "metadata": {
  "kernelspec": {
   "display_name": "Python 3.9.6 64-bit",
   "language": "python",
   "name": "python3"
  },
  "language_info": {
   "codemirror_mode": {
    "name": "ipython",
    "version": 3
   },
   "file_extension": ".py",
   "mimetype": "text/x-python",
   "name": "python",
   "nbconvert_exporter": "python",
   "pygments_lexer": "ipython3",
   "version": "3.9.6"
  },
  "vscode": {
   "interpreter": {
    "hash": "d49c3f6d6dd49f9272b571d9fad348ab55b8c6c3f691520d74ed0af1f69c3dd8"
   }
  }
 },
 "nbformat": 4,
 "nbformat_minor": 5
}
