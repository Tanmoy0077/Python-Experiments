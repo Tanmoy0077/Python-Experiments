{
 "cells": [
  {
   "cell_type": "code",
   "execution_count": 2,
   "metadata": {},
   "outputs": [],
   "source": [
    "import numpy as np\n",
    "import pandas as pd\n",
    "from sklearn import datasets\n",
    "from sklearn import tree\n",
    "from sklearn.model_selection import train_test_split\n",
    "import seaborn as sns"
   ]
  },
  {
   "cell_type": "code",
   "execution_count": 3,
   "metadata": {},
   "outputs": [],
   "source": [
    "from sklearn.metrics import mean_absolute_error, accuracy_score"
   ]
  },
  {
   "cell_type": "code",
   "execution_count": 4,
   "metadata": {},
   "outputs": [],
   "source": [
    "X, y = datasets.load_iris(return_X_y=True)"
   ]
  },
  {
   "cell_type": "code",
   "execution_count": 5,
   "metadata": {},
   "outputs": [],
   "source": [
    "model_1 = tree.DecisionTreeClassifier(max_depth=3, random_state=61)\n",
    "model_2 = tree.DecisionTreeClassifier(max_depth=4, random_state=61)\n",
    "model_3 = tree.DecisionTreeClassifier(max_depth=5, random_state=61)\n",
    "model_4 = tree.DecisionTreeClassifier(max_depth=6, random_state=61)\n",
    "model = [model_1, model_2, model_3, model_4]"
   ]
  },
  {
   "cell_type": "code",
   "execution_count": 6,
   "metadata": {},
   "outputs": [
    {
     "name": "stdout",
     "output_type": "stream",
     "text": [
      "Model 1 : MAE : 0.07894736842105263  Accuracy : 0.9210526315789473\n",
      "Model 2 : MAE : 0.07894736842105263  Accuracy : 0.9210526315789473\n",
      "Model 3 : MAE : 0.07894736842105263  Accuracy : 0.9210526315789473\n",
      "Model 4 : MAE : 0.07894736842105263  Accuracy : 0.9210526315789473\n"
     ]
    }
   ],
   "source": [
    "X_train, X_test, y_train, y_test = train_test_split(X, y, random_state=61)\n",
    "for i in range(len(model)):\n",
    "    model[i].fit(X_train, y_train)\n",
    "    y_pred = model[i].predict(X_test)\n",
    "    print(f\"Model {i+1} : MAE : {mean_absolute_error(y_test, y_pred)}  Accuracy : {accuracy_score(y_test,y_pred)}\")"
   ]
  },
  {
   "cell_type": "code",
   "execution_count": 7,
   "metadata": {},
   "outputs": [],
   "source": [
    "from sklearn.ensemble import RandomForestClassifier"
   ]
  },
  {
   "cell_type": "code",
   "execution_count": 8,
   "metadata": {},
   "outputs": [],
   "source": [
    "model_r_1 = RandomForestClassifier(n_estimators=10, random_state=61, criterion='absolute_error')\n",
    "model_r_2 = RandomForestClassifier(n_estimators=20, random_state=61)\n",
    "model_r_3 = RandomForestClassifier(n_estimators=30, random_state=61)\n",
    "model_r_4 = RandomForestClassifier(n_estimators=40, random_state=61)\n",
    "model_r = [model_r_1, model_r_2, model_r_3, model_r_4]"
   ]
  },
  {
   "cell_type": "code",
   "execution_count": 9,
   "metadata": {},
   "outputs": [
    {
     "name": "stdout",
     "output_type": "stream",
     "text": [
      "Model 1 : MAE : 0.07894736842105263  Accuracy : 0.9210526315789473\n",
      "Model 2 : MAE : 0.07894736842105263  Accuracy : 0.9210526315789473\n",
      "Model 3 : MAE : 0.07894736842105263  Accuracy : 0.9210526315789473\n",
      "Model 4 : MAE : 0.07894736842105263  Accuracy : 0.9210526315789473\n"
     ]
    }
   ],
   "source": [
    "for i in range(len(model_r)):\n",
    "    model[i].fit(X_train, y_train)\n",
    "    y_pred = model[i].predict(X_test)\n",
    "    print(f\"Model {i+1} : MAE : {mean_absolute_error(y_test, y_pred)}  Accuracy : {accuracy_score(y_test,y_pred)}\")"
   ]
  },
  {
   "cell_type": "code",
   "execution_count": 10,
   "metadata": {},
   "outputs": [],
   "source": [
    "import xgboost"
   ]
  },
  {
   "cell_type": "code",
   "execution_count": 11,
   "metadata": {},
   "outputs": [
    {
     "name": "stdout",
     "output_type": "stream",
     "text": [
      "MAE : 0.07894736842105263  Accuracy : 0.9210526315789473\n"
     ]
    }
   ],
   "source": [
    "model_x = xgboost.XGBClassifier()\n",
    "model_x.fit(X_train, y_train)\n",
    "y_pred_t = model_x.predict(X_test)\n",
    "print(f\"MAE : {mean_absolute_error(y_test, y_pred_t)}  Accuracy : {accuracy_score(y_test,y_pred_t)}\")"
   ]
  }
 ],
 "metadata": {
  "kernelspec": {
   "display_name": "Python 3.9.6 64-bit",
   "language": "python",
   "name": "python3"
  },
  "language_info": {
   "codemirror_mode": {
    "name": "ipython",
    "version": 3
   },
   "file_extension": ".py",
   "mimetype": "text/x-python",
   "name": "python",
   "nbconvert_exporter": "python",
   "pygments_lexer": "ipython3",
   "version": "3.9.6"
  },
  "orig_nbformat": 4,
  "vscode": {
   "interpreter": {
    "hash": "d49c3f6d6dd49f9272b571d9fad348ab55b8c6c3f691520d74ed0af1f69c3dd8"
   }
  }
 },
 "nbformat": 4,
 "nbformat_minor": 2
}
