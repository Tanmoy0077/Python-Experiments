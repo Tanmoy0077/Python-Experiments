{
 "cells": [
  {
   "cell_type": "markdown",
   "metadata": {},
   "source": [
    "### Jupyter NoteBook in VS Code"
   ]
  },
  {
   "cell_type": "markdown",
   "metadata": {},
   "source": [
    "Fibonacci Series using memo table"
   ]
  },
  {
   "cell_type": "code",
   "execution_count": 2,
   "metadata": {},
   "outputs": [
    {
     "name": "stdout",
     "output_type": "stream",
     "text": [
      "0🔥1🔥1🔥2🔥3🔥5🔥8🔥13🔥21🔥34🔥55🔥89🔥"
     ]
    }
   ],
   "source": [
    "def fib(n: int):\n",
    "    \"\"\"_Enter the number of the term you want to get in Fibonacci Series : n_\"\"\"\n",
    "    fibTable = [0, 1]\n",
    "    for i in range(2, n+1):\n",
    "        fibTable.append(fibTable[i-1] + fibTable[i-2])\n",
    "    return fibTable[n]\n",
    "\n",
    "for i in range(12):\n",
    "    print(fib(i), end=\"🔥\")"
   ]
  }
 ],
 "metadata": {
  "kernelspec": {
   "display_name": "Python 3.9.6 64-bit",
   "language": "python",
   "name": "python3"
  },
  "language_info": {
   "codemirror_mode": {
    "name": "ipython",
    "version": 3
   },
   "file_extension": ".py",
   "mimetype": "text/x-python",
   "name": "python",
   "nbconvert_exporter": "python",
   "pygments_lexer": "ipython3",
   "version": "3.9.6"
  },
  "orig_nbformat": 4,
  "vscode": {
   "interpreter": {
    "hash": "d49c3f6d6dd49f9272b571d9fad348ab55b8c6c3f691520d74ed0af1f69c3dd8"
   }
  }
 },
 "nbformat": 4,
 "nbformat_minor": 2
}
